{
 "cells": [
  {
   "cell_type": "code",
   "execution_count": 1,
   "id": "b4630840",
   "metadata": {},
   "outputs": [
    {
     "name": "stdout",
     "output_type": "stream",
     "text": [
      "HOPE AI\n"
     ]
    }
   ],
   "source": [
    "print(\"HOPE AI\")"
   ]
  },
  {
   "cell_type": "code",
   "execution_count": 3,
   "id": "f48bb42a",
   "metadata": {},
   "outputs": [
    {
     "name": "stdout",
     "output_type": "stream",
     "text": [
      "Enter your institute name? : HOPE AI\n"
     ]
    },
    {
     "data": {
      "text/plain": [
       "'HOPE AI'"
      ]
     },
     "execution_count": 3,
     "metadata": {},
     "output_type": "execute_result"
    }
   ],
   "source": [
    "input(\"Enter your institute name? : \")"
   ]
  },
  {
   "cell_type": "code",
   "execution_count": 5,
   "id": "4fb6062a",
   "metadata": {},
   "outputs": [
    {
     "name": "stdout",
     "output_type": "stream",
     "text": [
      "Enter your name: Raj\n",
      "Enter your age: 15\n",
      "Enter your school name: Guru school\n",
      "Enter your degree: B.E CSE\n"
     ]
    },
    {
     "data": {
      "text/plain": [
       "'B.E CSE'"
      ]
     },
     "execution_count": 5,
     "metadata": {},
     "output_type": "execute_result"
    }
   ],
   "source": [
    "input(\"Enter your name: \")\n",
    "int(input(\"Enter your age: \"))\n",
    "input(\"Enter your school name: \")\n",
    "input(\"Enter your degree: \")"
   ]
  },
  {
   "cell_type": "code",
   "execution_count": null,
   "id": "3e0444e9",
   "metadata": {},
   "outputs": [],
   "source": []
  },
  {
   "cell_type": "code",
   "execution_count": 6,
   "id": "2a36bf97",
   "metadata": {},
   "outputs": [
    {
     "name": "stdout",
     "output_type": "stream",
     "text": [
      "a=  43\n",
      "b=  34\n",
      "add=  77\n"
     ]
    }
   ],
   "source": [
    "a=43\n",
    "b=34\n",
    "print(\"a= \",a)\n",
    "print(\"b= \",b)\n",
    "print(\"add= \", a+b)"
   ]
  },
  {
   "cell_type": "code",
   "execution_count": null,
   "id": "02a4ac87",
   "metadata": {},
   "outputs": [],
   "source": []
  },
  {
   "cell_type": "code",
   "execution_count": 16,
   "id": "03aedd95",
   "metadata": {},
   "outputs": [
    {
     "name": "stdout",
     "output_type": "stream",
     "text": [
      "a=  43\n",
      "b=  34\n",
      "Sub=  9\n"
     ]
    }
   ],
   "source": [
    "a=43\n",
    "b=34\n",
    "print(\"a= \",a)\n",
    "print(\"b= \",b)\n",
    "print(\"Sub= \",a-b)"
   ]
  },
  {
   "cell_type": "code",
   "execution_count": null,
   "id": "8142e2ca",
   "metadata": {},
   "outputs": [],
   "source": []
  },
  {
   "cell_type": "code",
   "execution_count": 8,
   "id": "5251c52d",
   "metadata": {},
   "outputs": [
    {
     "name": "stdout",
     "output_type": "stream",
     "text": [
      "a=  63\n",
      "b=  97\n",
      "Mul  6111\n"
     ]
    }
   ],
   "source": [
    "a=63\n",
    "b=97\n",
    "print(\"a= \",a)\n",
    "print(\"b= \",b)\n",
    "print(\"Mul \",a*b)"
   ]
  },
  {
   "cell_type": "code",
   "execution_count": 12,
   "id": "e9315ff5",
   "metadata": {},
   "outputs": [
    {
     "name": "stdout",
     "output_type": "stream",
     "text": [
      "a=  76\n",
      "b=  31\n",
      "Float Div=  2.4516129032258065\n"
     ]
    }
   ],
   "source": [
    "a=76\n",
    "b=31\n",
    "print(\"a= \",a)\n",
    "print(\"b= \",b)\n",
    "print(\"Float Div= \",a/b)"
   ]
  },
  {
   "cell_type": "code",
   "execution_count": 13,
   "id": "1b76e721",
   "metadata": {},
   "outputs": [
    {
     "name": "stdout",
     "output_type": "stream",
     "text": [
      "a=  76\n",
      "b=  31\n",
      "Floor Div=  2\n"
     ]
    }
   ],
   "source": [
    "print(\"a= \",a)\n",
    "print(\"b= \",b)\n",
    "print(\"Floor Div= \",a//b)"
   ]
  },
  {
   "cell_type": "code",
   "execution_count": 22,
   "id": "5b51a4bf",
   "metadata": {},
   "outputs": [
    {
     "name": "stdout",
     "output_type": "stream",
     "text": [
      "a=  76\n",
      "b=  31\n",
      "Modulo=  14\n"
     ]
    }
   ],
   "source": [
    "a=76\n",
    "b=31\n",
    "print(\"a= \",a)\n",
    "print(\"b= \",b)\n",
    "print(\"Modulo= \",a%b)"
   ]
  },
  {
   "cell_type": "code",
   "execution_count": null,
   "id": "3c79e82b",
   "metadata": {},
   "outputs": [],
   "source": []
  },
  {
   "cell_type": "code",
   "execution_count": 24,
   "id": "8baf12d5",
   "metadata": {},
   "outputs": [
    {
     "name": "stdout",
     "output_type": "stream",
     "text": [
      "a=  4\n",
      "b=  4\n",
      "Power=  256\n"
     ]
    }
   ],
   "source": [
    "a=4\n",
    "b=4\n",
    "print(\"a= \",a)\n",
    "print(\"b= \",b)\n",
    "print(\"Power= \",pow(a,b))"
   ]
  },
  {
   "cell_type": "code",
   "execution_count": null,
   "id": "92c2a536",
   "metadata": {},
   "outputs": [],
   "source": []
  }
 ],
 "metadata": {
  "kernelspec": {
   "display_name": "Python 3 (ipykernel)",
   "language": "python",
   "name": "python3"
  },
  "language_info": {
   "codemirror_mode": {
    "name": "ipython",
    "version": 3
   },
   "file_extension": ".py",
   "mimetype": "text/x-python",
   "name": "python",
   "nbconvert_exporter": "python",
   "pygments_lexer": "ipython3",
   "version": "3.10.9"
  }
 },
 "nbformat": 4,
 "nbformat_minor": 5
}
